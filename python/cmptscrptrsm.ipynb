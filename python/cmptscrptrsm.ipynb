{
 "cells": [
  {
   "cell_type": "code",
   "execution_count": 1,
   "metadata": {},
   "outputs": [
    {
     "name": "stdout",
     "output_type": "stream",
     "text": [
      "(datetime.date(1980, 1, 1), 'Anjar')\n",
      "(datetime.date(1980, 1, 1), 'Baalbek')\n",
      "(datetime.date(1980, 1, 1), 'BeitEddine')\n",
      "(datetime.date(1980, 1, 1), 'Byblos')\n",
      "(datetime.date(1980, 1, 1), 'Kadisha')\n",
      "(datetime.date(1980, 1, 1), 'Tyre')\n"
     ]
    }
   ],
   "source": [
    "import mysql.connector\n",
    "import requests\n",
    "from bs4 import BeautifulSoup\n",
    "\n",
    "# establish connection\n",
    "cnx = mysql.connector.connect(user='root', password='',\n",
    "                              host='localhost', database='users')\n",
    "\n",
    "# create cursor object\n",
    "cursor = cnx.cursor()\n",
    "\n",
    "# execute a query\n",
    "query = \"SELECT LAST_UPDATED,NAME FROM touristic_sites\"\n",
    "cursor.execute(query)\n",
    "array=[]\n",
    "# iterate over results\n",
    "for result in cursor:\n",
    "    array.append(result)\n",
    "    print(result)\n",
    "\n"
   ]
  }
 ],
 "metadata": {
  "kernelspec": {
   "display_name": "Python 3",
   "language": "python",
   "name": "python3"
  },
  "language_info": {
   "codemirror_mode": {
    "name": "ipython",
    "version": 3
   },
   "file_extension": ".py",
   "mimetype": "text/x-python",
   "name": "python",
   "nbconvert_exporter": "python",
   "pygments_lexer": "ipython3",
   "version": "3.11.2"
  },
  "orig_nbformat": 4
 },
 "nbformat": 4,
 "nbformat_minor": 2
}
