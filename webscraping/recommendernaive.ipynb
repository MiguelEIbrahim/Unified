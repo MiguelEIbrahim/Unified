{
 "cells": [
  {
   "cell_type": "code",
   "execution_count": 1,
   "metadata": {},
   "outputs": [],
   "source": [
    "import mysql.connector\n",
    "import smtplib\n",
    "from email.mime.multipart import MIMEMultipart\n",
    "from email.mime.base import MIMEBase\n",
    "from email.mime.text import MIMEText\n",
    "from email.utils import COMMASPACE\n",
    "from email import encoders\n"
   ]
  },
  {
   "cell_type": "code",
   "execution_count": 3,
   "metadata": {},
   "outputs": [],
   "source": [
    "# Connect to MySQL server\n",
    "mydb = mysql.connector.connect(\n",
    "  host=\"localhost\",\n",
    "  user=\"root\",\n",
    "  password=\"\",\n",
    "  database=\"users\"\n",
    ")"
   ]
  },
  {
   "cell_type": "code",
   "execution_count": null,
   "metadata": {},
   "outputs": [],
   "source": [
    "# Create cursor to execute queries\n",
    "mycursor = mydb.cursor()\n",
    "\n",
    "# Query 'users' table to get email and ID\n",
    "mycursor.execute(\"SELECT email, ID FROM users\")\n",
    "\n",
    "# Fetch all rows of the query result\n",
    "users = mycursor.fetchall()\n",
    "\n",
    "# Loop through each user\n",
    "for user in users:\n",
    "    # Query 'visited_sites' table to get VISITED value of each site_name for the user\n",
    "    mycursor.execute(\"SELECT site_name, VISITED FROM visited_sites WHERE user_ID = %s\", (user[1],))\n",
    "    visited_sites = mycursor.fetchall()\n",
    "\n",
    "    # Create a list of not visited sites\n",
    "    not_visited_sites = []\n",
    "    for site in visited_sites:\n",
    "        if not site[1]:\n",
    "            not_visited_sites.append(site[0])\n",
    "    \n",
    "    # If the user has not visited any sites, send email with list of sites and a picture of each site\n",
    "    if not_visited_sites:\n",
    "        # Format email content\n",
    "        email_content = f\"Dear {user[0]},\\n\\nYou have not yet visited:\\n\"\n",
    "        for site_name in not_visited_sites:\n",
    "            email_content += f\"- {site_name}\\n\"\n",
    "        email_content += \"\\nPlease take the opportunity to visit these sites. Otherwise, please enjoy a picture of them:\\n\"\n",
    "\n",
    "        # Send email with pictures of sites\n",
    "        for site_name in not_visited_sites:\n",
    "            email_content += f\"{site_name}.jpg\\n\"\n",
    "\n",
    "        # Send email using a SMTP server or service like Gmail, Mailgun, or SendGrid"
   ]
  },
  {
   "cell_type": "code",
   "execution_count": null,
   "metadata": {},
   "outputs": [],
   "source": [
    "smtp_server = 'smtp.gmail.com'\n",
    "smtp_port = 587\n",
    "smtp_username = 'yourgmailusername@gmail.com'\n",
    "smtp_password = 'yourgmailpassword'"
   ]
  },
  {
   "cell_type": "code",
   "execution_count": null,
   "metadata": {},
   "outputs": [],
   "source": [
    "for user in users:\n",
    "# Query 'visited_sites' table to get VISITED value of each site_name for the user\n",
    "    mycursor.execute(\"SELECT site_name, VISITED FROM visited_sites WHERE user_ID = %s\", (user[1],))\n",
    "    visited_sites = mycursor.fetchall()"
   ]
  },
  {
   "cell_type": "code",
   "execution_count": null,
   "metadata": {},
   "outputs": [],
   "source": [
    "# Create a list of not visited sites\n",
    "not_visited_sites = []\n",
    "for site in visited_sites:\n",
    "    if not site[1]:\n",
    "        not_visited_sites.append(site[0])\n",
    "\n",
    "# If the user has not visited any sites, send email with list of sites and a picture of each site\n",
    "if not_visited_sites:\n",
    "    # Format email content\n",
    "    email_content = f\"Dear {user[0]},\\n\\nYou have not yet visited:\\n\"\n",
    "    for site_name in not_visited_sites:\n",
    "        email_content += f\"- {site_name}\\n\"\n",
    "    email_content += \"\\nPlease take the opportunity to visit these sites. Otherwise, please enjoy a picture of them:\\n\"\n",
    "\n",
    "    # Create a MIME message object and add sender, recipient and subject\n",
    "    msg = MIMEMultipart()\n",
    "    msg['From'] = smtp_username\n",
    "    msg['To'] = user[0]\n",
    "    msg['Subject'] = 'Sites to visit'\n",
    "    \n",
    "    # Add text content to the message\n",
    "    text = MIMEText(email_content)\n",
    "    msg.attach(text)\n",
    "    \n",
    "    # Add pictures of sites to the message\n",
    "    for site_name in not_visited_sites:\n",
    "        filepath = f'../Heritage/{site_name}.jpg'\n",
    "        with open(filepath, 'rb') as f:\n",
    "            img = MIMEBase('image', 'jpg', name=site_name+'.jpg')\n",
    "            img.set_payload(f.read())\n",
    "            encoders.encode_base64(img)\n",
    "            img.add_header('Content-Disposition', 'attachment', filename=site_name+'.jpg')\n",
    "            msg.attach(img)\n",
    "    \n",
    "    # Send email using SMTP server\n",
    "    try:\n",
    "        smtp = smtplib.SMTP(smtp_server, smtp_port)\n",
    "        smtp.starttls()\n",
    "        smtp.login(smtp_username, smtp_password)\n",
    "        smtp.sendmail(smtp_username, user[0], msg.as_string())\n",
    "        smtp.quit()\n",
    "        print(f\"Email sent to {user[0]}\")\n",
    "    except Exception as e:\n",
    "        print(f\"Email failed to send to {user[0]}. Error message: {str(e)}\")\n"
   ]
  }
 ],
 "metadata": {
  "kernelspec": {
   "display_name": "Python 3",
   "language": "python",
   "name": "python3"
  },
  "language_info": {
   "codemirror_mode": {
    "name": "ipython",
    "version": 3
   },
   "file_extension": ".py",
   "mimetype": "text/x-python",
   "name": "python",
   "nbconvert_exporter": "python",
   "pygments_lexer": "ipython3",
   "version": "3.11.2"
  },
  "orig_nbformat": 4
 },
 "nbformat": 4,
 "nbformat_minor": 2
}
