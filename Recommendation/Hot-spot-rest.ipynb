{
 "cells": [
  {
   "cell_type": "code",
   "execution_count": 1,
   "metadata": {},
   "outputs": [],
   "source": [
    "import mysql.connector\n",
    "import smtplib\n",
    "from email.mime.multipart import MIMEMultipart\n",
    "from email.mime.base import MIMEBase\n",
    "from email.mime.text import MIMEText\n",
    "from email.utils import COMMASPACE\n",
    "from email import encoders\n"
   ]
  },
  {
   "cell_type": "code",
   "execution_count": 2,
   "metadata": {},
   "outputs": [],
   "source": [
    "# Connect to MySQL server\n",
    "mydb = mysql.connector.connect(\n",
    "  host=\"localhost\",\n",
    "  user=\"root\",\n",
    "  password=\"\",\n",
    "  database=\"users\"\n",
    ")"
   ]
  },
  {
   "cell_type": "code",
   "execution_count": null,
   "metadata": {},
   "outputs": [],
   "source": [
    "# Email configuration\n",
    "smtp_server = 'smtp.gmail.com'\n",
    "smtp_port = 587\n",
    "sender_email = 'miguelibrahim87@gmail.com'\n",
    "sender_password = 'Migo9021@!'\n"
   ]
  },
  {
   "cell_type": "code",
   "execution_count": 3,
   "metadata": {},
   "outputs": [
    {
     "name": "stdout",
     "output_type": "stream",
     "text": [
      "No hotspot restaurants found.\n"
     ]
    }
   ],
   "source": [
    "# Create cursor to execute queries\n",
    "mycursor = mydb.cursor()\n",
    "\n",
    "# Query to get the count of restaurant occurrences and filter by rating\n",
    "mycursor.execute(\"SELECT Name, COUNT(*) as count FROM rated_restaurants WHERE RATING > 3 GROUP BY Name HAVING count > 1\")\n",
    "\n",
    "# Fetch all rows of the query result\n",
    "hotspots = mycursor.fetchall()\n",
    "\n",
    "# Variable to keep track of the maximum occurrence count\n",
    "max_count = 0\n",
    "\n",
    "# Loop through each hotspot to find the maximum count\n",
    "for hotspot in hotspots:\n",
    "    # Check if the current hotspot has a higher count than the previous maximum\n",
    "    if hotspot[1] > max_count:\n",
    "        max_count = hotspot[1]\n",
    "\n",
    "# Variable to store the recommended hotspot(s)\n",
    "recommended_restaurants = []\n",
    "\n",
    "# Loop through each hotspot to recommend based on maximum count\n",
    "for hotspot in hotspots:\n",
    "    # Check if the current hotspot has the maximum count\n",
    "    if hotspot[1] == max_count:\n",
    "        recommended_restaurants.append(hotspot[0])\n",
    "\n",
    "# Print the recommended hotspot(s)\n",
    "if recommended_restaurants:\n",
    "    print(\"Hotspot restaurant(s):\")\n",
    "    for restaurant in recommended_restaurants:\n",
    "        print(restaurant)\n",
    "\n",
    "    # Query 'users' table to get email for all users\n",
    "    mycursor.execute(\"SELECT email FROM users\")\n",
    "    user_emails = mycursor.fetchall()\n",
    "\n",
    "    # Create the email message\n",
    "    subject = \"Hotspot Restaurant Recommendation\"\n",
    "    body = f\"Dear user,\\n\\nWe would like to recommend the following hotspot restaurant(s): {', '.join(recommended_restaurants)}.\\n\\nEnjoy your meal!\\n\\nBest regards,\\nThe Restaurant Recommendation Team\"\n",
    "    message = MIMEMultipart()\n",
    "    message['From'] = sender_email\n",
    "    message['Subject'] = subject\n",
    "\n",
    "    # Attach the body to the email\n",
    "    message.attach(MIMEText(body, 'plain'))\n",
    "\n",
    "    # Connect to the SMTP server and send the email to each user\n",
    "    with smtplib.SMTP(smtp_server, smtp_port) as server:\n",
    "        server.starttls()\n",
    "        server.login(sender_email, sender_password)\n",
    "        for user_email in user_emails:\n",
    "            message['To'] = user_email[0]\n",
    "            server.sendmail(sender_email, user_email[0], message.as_string())\n",
    "\n",
    "    print(\"Emails sent successfully!\")\n",
    "else:\n",
    "    print(\"No hotspot restaurants found.\")"
   ]
  }
 ],
 "metadata": {
  "kernelspec": {
   "display_name": "Python 3",
   "language": "python",
   "name": "python3"
  },
  "language_info": {
   "codemirror_mode": {
    "name": "ipython",
    "version": 3
   },
   "file_extension": ".py",
   "mimetype": "text/x-python",
   "name": "python",
   "nbconvert_exporter": "python",
   "pygments_lexer": "ipython3",
   "version": "3.11.3"
  },
  "orig_nbformat": 4
 },
 "nbformat": 4,
 "nbformat_minor": 2
}
