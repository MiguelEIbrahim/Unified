{
 "cells": [
  {
   "cell_type": "code",
   "execution_count": null,
   "metadata": {},
   "outputs": [],
   "source": [
    "import mysql.connector\n",
    "import smtplib\n",
    "from email.mime.multipart import MIMEMultipart\n",
    "from email.mime.base import MIMEBase\n",
    "from email.mime.text import MIMEText\n",
    "from email.utils import COMMASPACE\n",
    "from email import encoders\n",
    "import configparser\n",
    "config = configparser.ConfigParser()\n",
    "# Connect to MySQL server\n",
    "config.read('config.ini')\n",
    "\n",
    "mydb = mysql.connector.connect(\n",
    " mysql_host = config['mysql']['host'],\n",
    " mysql_user = config['mysql']['user'],\n",
    " mysql_password = config['mysql']['password'],\n",
    " mysql_database = config['mysql']['database']\n",
    ")\n"
   ]
  },
  {
   "cell_type": "code",
   "execution_count": null,
   "metadata": {},
   "outputs": [],
   "source": []
  },
  {
   "cell_type": "code",
   "execution_count": null,
   "metadata": {},
   "outputs": [],
   "source": []
  }
 ],
 "metadata": {
  "language_info": {
   "name": "python"
  },
  "orig_nbformat": 4
 },
 "nbformat": 4,
 "nbformat_minor": 2
}
